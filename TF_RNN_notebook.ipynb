{
 "cells": [
  {
   "cell_type": "code",
   "execution_count": 1,
   "metadata": {},
   "outputs": [],
   "source": [
    "import tensorflow as tf\n",
    "import numpy as np\n",
    "import matplotlib.pyplot as plt\n",
    "\n",
    "fair_GRU_test = False"
   ]
  },
  {
   "cell_type": "code",
   "execution_count": 2,
   "metadata": {},
   "outputs": [],
   "source": [
    "def load(f):\n",
    "    F = open(f,\"r\")\n",
    "    out = []\n",
    "    label = []\n",
    "    for l in F:\n",
    "        temp = [int(t) for t in l.split(\",\")]\n",
    "        out.append(temp[1:])\n",
    "        label.append(temp[0])\n",
    "        \n",
    "    return np.array(out),np.array(label)\n",
    "\n",
    "train_data,train_label = load(\"./mnist_train.csv\")\n",
    "test_data,test_label = load(\"./mnist_test.csv\")"
   ]
  },
  {
   "cell_type": "code",
   "execution_count": 3,
   "metadata": {},
   "outputs": [
    {
     "data": {
      "image/png": "[encoded data removed]",
      "text/plain": [
       "<Figure size 288x288 with 1 Axes>"
      ]
     },
     "metadata": {},
     "output_type": "display_data"
    },
    {
     "data": {
      "image/png": "[encoded data removed]",
      "text/plain": [
       "<Figure size 288x288 with 1 Axes>"
      ]
     },
     "metadata": {},
     "output_type": "display_data"
    }
   ],
   "source": [
    "plt_data = np.reshape(test_data,[-1,28,28])\n",
    "\n",
    "plt.matshow(plt_data[2])\n",
    "plt.show()\n",
    "\n",
    "def get_batch_shuffle(x,p):\n",
    "    z = np.array([x[:,p[i],i] for i in range(len(p))]).transpose([1,2,0])\n",
    "    return z\n",
    "\n",
    "shuff = np.array([np.random.choice(range(28),28,replace=False) for k in range(28)])\n",
    "out_data = get_batch_shuffle(plt_data,shuff)\n",
    "plt.matshow(out_data[2])\n",
    "plt.show()"
   ]
  },
  {
   "cell_type": "code",
   "execution_count": 4,
   "metadata": {},
   "outputs": [],
   "source": [
    "batch_size = 16\n",
    "data_size = len(test_data[0])\n",
    "data_edge = int(np.sqrt(data_size))\n",
    "learning_rate = .001\n",
    "n_epochs = 4000\n",
    "n_labels = 10\n",
    "\n",
    "nrnn_hidden_layer = 32\n",
    "\n",
    "rec_state_size = 128"
   ]
  },
  {
   "cell_type": "code",
   "execution_count": 5,
   "metadata": {},
   "outputs": [],
   "source": [
    "m = np.mean(train_data)\n",
    "s = np.std(train_data)\n",
    "\n",
    "normed_data = (train_data - m)/s"
   ]
  },
  {
   "cell_type": "code",
   "execution_count": 31,
   "metadata": {},
   "outputs": [
    {
     "name": "stdout",
     "output_type": "stream",
     "text": [
      "(128, 128)\n",
      "(128, 28)\n"
     ]
    }
   ],
   "source": [
    "ncontext = 5\n",
    "\n",
    "shuff = [np.array([np.random.choice(range(28),28,replace=False) for k in range(28)]) for j in range(ncontext)]\n",
    "\n",
    "tf.reset_default_graph()\n",
    "\n",
    "rec = True\n",
    "\n",
    "if rec:\n",
    "    rec_contexts = tf.stop_gradient(tf.Variable(np.float32(np.random.randint(0,2,[ncontext,rec_state_size,rec_state_size])*2 - 1),trainable = False))\n",
    "    inp_contexts = tf.stop_gradient(tf.Variable(np.float32(np.ones([ncontext,data_edge])),trainable = False))\n",
    "else:\n",
    "    rec_contexts = tf.stop_gradient(tf.Variable(np.float32(np.ones([ncontext,rec_state_size,rec_state_size])),trainable = False))\n",
    "    inp_contexts = tf.stop_gradient(tf.Variable(np.float32(np.random.randint(0,2,[ncontext,1,data_edge])*2 - 1),trainable = False))\n",
    "    \n",
    "context_index = tf.placeholder(tf.int32)\n",
    "\n",
    "inputs = tf.placeholder(tf.float32,shape = (batch_size, data_edge, data_edge))\n",
    "series = tf.transpose(inputs,[0,2,1])\n",
    "\n",
    "labels = tf.placeholder(tf.float32,shape = (batch_size,10))\n",
    "\n",
    "init_state = tf.zeros(shape = [rec_state_size])\n",
    "\n",
    "RNN_W_tot = tf.Variable(np.float32(np.random.randn(rec_state_size,rec_state_size)/np.sqrt(rec_state_size)),name = \"W\")\n",
    "\n",
    "RNN_W = RNN_W_tot * rec_contexts[context_index]\n",
    "INP_W = tf.Variable(np.float32(np.random.randn(rec_state_size,data_edge)/np.sqrt(data_edge)),name = \"I_W\")/inp_contexts[context_index]\n",
    "\n",
    "print(RNN_W.shape)\n",
    "print(INP_W.shape)\n"
   ]
  },
  {
   "cell_type": "code",
   "execution_count": 32,
   "metadata": {},
   "outputs": [
    {
     "name": "stdout",
     "output_type": "stream",
     "text": [
      "0.070709154\n"
     ]
    },
    {
     "data": {
      "image/png": "[encoded data removed]",
      "text/plain": [
       "<Figure size 288x288 with 1 Axes>"
      ]
     },
     "metadata": {},
     "output_type": "display_data"
    }
   ],
   "source": [
    "init = tf.global_variables_initializer()\n",
    "config = tf.ConfigProto(device_count = {'GPU': 0})\n",
    "sess = tf.Session(config=config)\n",
    "sess.run(init)\n",
    "\n",
    "W = [sess.run(RNN_W,{context_index:c}) for c in range(ncontext)]\n",
    "I = [sess.run(RNN_W,{context_index:c}) for c in range(ncontext)]\n",
    "print(np.mean(np.abs(W[0] - W[1])))\n",
    "\n",
    "\n",
    "wt = [[np.mean(np.abs(i - j)) for j in W] for i in W]\n",
    "\n",
    "plt.matshow(wt)\n",
    "plt.show()\n",
    "\n",
    "sess.close()"
   ]
  },
  {
   "cell_type": "markdown",
   "metadata": {},
   "source": [
    "This next cell is the powerhouse. The function I define takes a single time step batch of inputs, and the current state of the network, and returns an updated state using a single hidden layer of nonlinearity.\n",
    "\n",
    "Note the `name` keyword and `reuse = tf.AUTO_REUSE`. The name identifies this layer unambiguously, and `tf.AUTO_REUSE` tells tensorflow to reuse the weights if this layer already exists, and create them if it doesn't. That way, every time we call the function `get_next_state`, it applies the same parameters to the inputs, and the gradients are tied across all time steps.\n",
    "\n",
    "Next I have constructed a loop which recursively feeds the RNN state and a single \"time\" slice to `get_next_state`, and records the results in a list `state_out`. Afterwards we concatenate (`tf.concat`) them all together along the 1-th axis, generating a time series of state variables. \n",
    "\n",
    "Lastly, we reshape the time-dependent state and pass them all through a single dense layer to translate them into logits in the label dimention (`probs`)."
   ]
  },
  {
   "cell_type": "code",
   "execution_count": 33,
   "metadata": {},
   "outputs": [
    {
     "name": "stdout",
     "output_type": "stream",
     "text": [
      "(16, 29, 128)\n",
      "(16, 29, 10)\n"
     ]
    }
   ],
   "source": [
    "def get_next_state(INP,STATE):\n",
    "    inp = tf.tensordot(INP,INP_W,axes = [[-1],[-1]])\n",
    "    rec = tf.tensordot(INP,INP_W,axes = [[-1],[-1]])\n",
    "    \n",
    "    net = tf.nn.relu(inp + rec)\n",
    "\n",
    "    return net\n",
    "\n",
    "state_out = [tf.tile(tf.expand_dims(init_state,0),(batch_size,1))]\n",
    "\n",
    "for k in range(data_edge):\n",
    "        state_out.append(get_next_state(series[:,k],state_out[-1]))\n",
    "        \n",
    "state_out = tf.stack(state_out,axis = 1)\n",
    "print(state_out.shape)\n",
    "\n",
    "flattened_state = tf.reshape(state_out,[-1,rec_state_size])\n",
    "flattened_probs = tf.layers.dense(flattened_state,n_labels)\n",
    "probs = tf.reshape(flattened_probs,[state_out.shape[0],state_out.shape[1],n_labels])\n",
    "\n",
    "print(probs.shape)"
   ]
  },
  {
   "cell_type": "markdown",
   "metadata": {},
   "source": [
    "Here I constrtuct the loss function. I take the mean cross-entropy loss between prediction and label in the final `test_time` time steps. There is some shuffling of dimentions that happens here which could probably be skipped with a clever application of keyowrd arguments in various tensorflow functions. "
   ]
  },
  {
   "cell_type": "code",
   "execution_count": 34,
   "metadata": {},
   "outputs": [],
   "source": [
    "test_time = 20\n",
    "\n",
    "time_label = tf.tile(tf.expand_dims(labels,1),[1,probs.shape[1],1])\n",
    "flattened_label = tf.reshape(time_label[:,-test_time:],[-1,n_labels])\n",
    "\n",
    "flattened_probs = tf.reshape(probs[:,-test_time:],[-1,n_labels])\n",
    "test_probs = tf.nn.softmax(probs,axis = -1)\n",
    "\n",
    "loss = tf.reduce_mean(tf.nn.softmax_cross_entropy_with_logits_v2(labels = flattened_label,logits = flattened_probs))\n",
    "\n",
    "adam = tf.train.AdamOptimizer()\n",
    "train = adam.minimize(loss)"
   ]
  },
  {
   "cell_type": "code",
   "execution_count": 35,
   "metadata": {},
   "outputs": [],
   "source": [
    "def make_1hot(l):\n",
    "    out = np.zeros(shape = (len(l),n_labels))\n",
    "    for k in range(len(l)):\n",
    "        out[k][l[k]] = 1\n",
    "        \n",
    "    return out\n",
    "\n",
    "def MNIST_err(l,p):\n",
    "    out = []\n",
    "    for k in range(len(l)):\n",
    "        if l[k][np.argmax(p[k])] == 1:\n",
    "            out.append(1)\n",
    "        else:\n",
    "            out.append(0)\n",
    "            \n",
    "    return np.mean(out)"
   ]
  },
  {
   "cell_type": "code",
   "execution_count": 36,
   "metadata": {},
   "outputs": [],
   "source": [
    "def TRAIN_LOOP(use_context):\n",
    "    init = tf.global_variables_initializer()\n",
    "    config = tf.ConfigProto(device_count = {'GPU': 0})\n",
    "    sess = tf.Session(config=config)\n",
    "    sess.run(init)\n",
    "    \n",
    "    results = []\n",
    "    print_freq = 1000\n",
    "    test_freq = 100\n",
    "\n",
    "    normed_test = np.reshape((test_data - m)/s,[-1,28,28])\n",
    "\n",
    "    normed_test = get_batch_shuffle(normed_test,shuff[0])\n",
    "    test_label_1h = make_1hot(test_label)\n",
    "\n",
    "    ntrain_per_cont = 2000\n",
    "    n_epochs = ntrain_per_cont*ncontext\n",
    "\n",
    "    print(\"epoch\\trnn\\trnn*\\tcontext\")\n",
    "\n",
    "    for k in range(n_epochs):\n",
    "        CONT = int(k/ntrain_per_cont)\n",
    "        if use_context:\n",
    "            trCONT = CONT\n",
    "        else:\n",
    "            trCONT = 0\n",
    "\n",
    "        b_index = np.random.choice(range(len(test_data)),batch_size,replace = False)\n",
    "        standard_batch_data = np.reshape(normed_data[b_index],[-1,28,28])\n",
    "        batch_labels = make_1hot(train_label[b_index])\n",
    "\n",
    "        batch_data = get_batch_shuffle(standard_batch_data,shuff[CONT])\n",
    "\n",
    "        _,train_loss = sess.run([train,loss],{inputs:batch_data,labels:batch_labels,context_index:trCONT})\n",
    "\n",
    "        if k%test_freq == 0:\n",
    "            tres = []\n",
    "            for j in range(len(normed_test)//16):\n",
    "                tres.append(sess.run(loss,{inputs:normed_test[j*16:(j+1)*16],labels:test_label_1h[j*16:(j+1)*16],context_index:0}))\n",
    "\n",
    "            tres = np.mean(tres)\n",
    "            results.append([k,train_loss,tres])\n",
    "\n",
    "        if k%print_freq == 0:\n",
    "            print(\"{}\\t{:.3f}\\t{:.3f}\\t{}\".format(k,train_loss,tres,CONT))\n",
    "            \n",
    "    return np.array(results)"
   ]
  },
  {
   "cell_type": "code",
   "execution_count": 37,
   "metadata": {},
   "outputs": [
    {
     "name": "stdout",
     "output_type": "stream",
     "text": [
      "epoch\trnn\trnn*\tcontext\n",
      "0\t3.681\t3.531\t0\n",
      "1000\t1.797\t1.882\t0\n",
      "2000\t2.691\t1.791\t1\n",
      "3000\t1.828\t2.325\t1\n",
      "4000\t2.736\t2.516\t2\n",
      "5000\t1.877\t2.532\t2\n",
      "6000\t2.493\t2.678\t3\n",
      "7000\t1.827\t2.667\t3\n",
      "8000\t2.689\t2.750\t4\n",
      "9000\t1.848\t2.595\t4\n",
      "epoch\trnn\trnn*\tcontext\n",
      "0\t3.948\t3.794\t0\n",
      "1000\t1.730\t1.887\t0\n",
      "2000\t2.738\t1.792\t1\n",
      "3000\t1.862\t2.318\t1\n",
      "4000\t2.869\t2.486\t2\n",
      "5000\t1.707\t2.535\t2\n",
      "6000\t2.612\t2.647\t3\n",
      "7000\t1.848\t2.631\t3\n",
      "8000\t2.669\t2.736\t4\n",
      "9000\t1.468\t2.677\t4\n"
     ]
    }
   ],
   "source": [
    "with_context = TRAIN_LOOP(True)\n",
    "no_context = TRAIN_LOOP(False)"
   ]
  },
  {
   "cell_type": "code",
   "execution_count": 38,
   "metadata": {},
   "outputs": [
    {
     "data": {
      "image/png": "[encoded data removed]",
      "text/plain": [
       "<Figure size 432x288 with 1 Axes>"
      ]
     },
     "metadata": {},
     "output_type": "display_data"
    }
   ],
   "source": [
    "plt.plot(with_context[:,0],with_context[:,-1],label = \"context task 1\")\n",
    "plt.plot(no_context[:,0],with_context[:,-1],label = \"no context task 1\")\n",
    "plt.plot(with_context[:,0],with_context[:,1],label = \"context task n\")\n",
    "plt.plot(no_context[:,0],with_context[:,1],label = \"no context task n\")\n",
    "plt.xlabel(\"Gradient Step\")\n",
    "plt.ylabel(\"Performance (cross entropy)\")\n",
    "plt.legend()\n",
    "plt.show()"
   ]
  },
  {
   "cell_type": "code",
   "execution_count": null,
   "metadata": {},
   "outputs": [],
   "source": []
  }
 ],
 "metadata": {
  "kernelspec": {
   "display_name": "Python 3",
   "language": "python",
   "name": "python3"
  },
  "language_info": {
   "codemirror_mode": {
    "name": "ipython",
    "version": 3
   },
   "file_extension": ".py",
   "mimetype": "text/x-python",
   "name": "python",
   "nbconvert_exporter": "python",
   "pygments_lexer": "ipython3",
   "version": "3.5.4"
  }
 },
 "nbformat": 4,
 "nbformat_minor": 2
}
